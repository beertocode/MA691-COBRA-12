{
 "cells": [
  {
   "cell_type": "code",
   "execution_count": 70,
   "id": "b9c1c7ca-a6a5-4ff6-93e0-3a30666b49cb",
   "metadata": {},
   "outputs": [
    {
     "name": "stdout",
     "output_type": "stream",
     "text": [
      "      CRIM    ZN  INDUS  CHAS    NOX     RM   AGE     DIS  RAD    TAX  \\\n",
      "0  0.00632  18.0   2.31   0.0  0.538  6.575  65.2  4.0900  1.0  296.0   \n",
      "1  0.02731   0.0   7.07   0.0  0.469  6.421  78.9  4.9671  2.0  242.0   \n",
      "2  0.02729   0.0   7.07   0.0  0.469  7.185  61.1  4.9671  2.0  242.0   \n",
      "3  0.03237   0.0   2.18   0.0  0.458  6.998  45.8  6.0622  3.0  222.0   \n",
      "4  0.06905   0.0   2.18   0.0  0.458  7.147  54.2  6.0622  3.0  222.0   \n",
      "\n",
      "   PTRATIO       B  LSTAT  \n",
      "0     15.3  396.90   4.98  \n",
      "1     17.8  396.90   9.14  \n",
      "2     17.8  392.83   4.03  \n",
      "3     18.7  394.63   2.94  \n",
      "4     18.7  396.90   5.33  \n",
      "Boston datset :   (506, 13)\n",
      "=============================================================================================\n"
     ]
    }
   ],
   "source": [
    "df_b = load_boston()\n",
    "data_b = pd.DataFrame(df_b.data,columns = df_b.feature_names)\n",
    "print(data_b.head())\n",
    "print(\"Boston datset :  \",data_b.shape)\n",
    "print(\"=============================================================================================\")"
   ]
  },
  {
   "cell_type": "code",
   "execution_count": null,
   "id": "38544018-b846-4cad-9ae7-1f995962a645",
   "metadata": {},
   "outputs": [],
   "source": [
    "#============================================lasso===================================================="
   ]
  },
  {
   "cell_type": "code",
   "execution_count": 71,
   "id": "63e950ad-cbb1-4cbc-a97e-5a876bc5d4db",
   "metadata": {},
   "outputs": [
    {
     "name": "stdout",
     "output_type": "stream",
     "text": [
      "best parameters:\n",
      "\n",
      "\n",
      "{'alpha': 1e-15}\n",
      "-25.501257883769615\n",
      "Training accuracy : 0.72699\n",
      "\n",
      "Testing accuracy : 0.77799\n",
      "\n",
      "mean square error:  40.34885\n",
      "\n",
      "\n"
     ]
    },
    {
     "data": {
      "text/plain": [
       "[<matplotlib.lines.Line2D at 0x1e3f40c4f40>]"
      ]
     },
     "execution_count": 71,
     "metadata": {},
     "output_type": "execute_result"
    },
    {
     "data": {
      "image/png": "[encoded data removed]",
      "text/plain": [
       "<Figure size 432x288 with 1 Axes>"
      ]
     },
     "metadata": {
      "needs_background": "light"
     },
     "output_type": "display_data"
    }
   ],
   "source": [
    "from sklearn.datasets import load_boston\n",
    "from sklearn.datasets import load_diabetes\n",
    "import numpy as np \n",
    "import pandas as pd \n",
    "import matplotlib.pyplot as plt\n",
    "%matplotlib inline\n",
    "from sklearn.model_selection import train_test_split\n",
    "from sklearn.preprocessing import StandardScaler\n",
    "from sklearn.linear_model import Ridge, Lasso\n",
    "from sklearn.metrics import r2_score\n",
    "from sklearn.model_selection import cross_val_score, GridSearchCV\n",
    "import warnings\n",
    "\n",
    "warnings.filterwarnings('ignore', category = DeprecationWarning)\n",
    "from warnings import filterwarnings\n",
    "filterwarnings('ignore')\n",
    "\n",
    "\"\"\"\n",
    "There are 14 attributes in each case of the dataset.It has two prototasks: nox, in which the nitrous oxide \n",
    "level is to be predicted;and price, in which the median value of a home is to be predicted.\n",
    "\"\"\"\n",
    "\n",
    "df_b = load_boston()\n",
    "data_b = pd.DataFrame(df_b.data,columns = df_b.feature_names)\n",
    "data_b['PRICE'] = df_b.target\n",
    "X_b = data_b.drop('PRICE',axis = 1)\n",
    "y_b = data_b['PRICE']\n",
    "\n",
    "X_train,X_test,y_train,y_test = train_test_split(X_b,y_b,test_size = 0.2,random_state = 129)\n",
    "#Lasso Regression\n",
    "from sklearn.linear_model import Lasso\n",
    "from sklearn.model_selection import GridSearchCV\n",
    "lasso=Lasso()\n",
    "parameters={'alpha':[1e-20,1e-15,1e-10,1e-8,1e-3,1e-2,1,5,10,20,30,35,40,45,50,55,100]}\n",
    "lasso_regressor=GridSearchCV(lasso,parameters,scoring='neg_mean_squared_error',cv=5)\n",
    "\n",
    "lasso_regressor.fit(X_train,y_train)\n",
    "# Let's check out the best parameter and best score\n",
    "print(\"best parameters:\\n\\n\")\n",
    "print(lasso_regressor.best_params_)\n",
    "print(lasso_regressor.best_score_)\n",
    "prediction_lasso=lasso_regressor.predict(X_test)\n",
    "# Prediction\n",
    "y_pred_train_lasso1 = lasso_regressor.predict(X_train)\n",
    "y_pred_test_lasso1 = lasso_regressor.predict(X_test)\n",
    "print('Training accuracy : {}\\n'.format(r2_score(y_train, y_pred_train_lasso1).round(5)))\n",
    "print('Testing accuracy : {}'.format(r2_score(y_test, y_pred_test_lasso1).round(5)))\n",
    "\n",
    "mse1 = cross_val_score(lasso_regressor, X_b, y_b, scoring = 'neg_mean_squared_error',cv=5)\n",
    "mean_mse1 = np.mean(mse1)\n",
    "print(\"\\nmean square error: \",-(mean_mse1).round(5))\n",
    "print(\"\\n\")\n",
    "\n",
    "import seaborn as sns\n",
    "sns.distplot(y_test-prediction_lasso)\n",
    "\n",
    "X=[]\n",
    "for i in range(1,107):\n",
    "    X.append(i)\n",
    "X=np.array(X)\n",
    "plt.scatter(prediction_lasso,y_test)\n",
    "plt.xlabel(\"predicted\")\n",
    "plt.ylabel(\"y_test\")\n",
    "plt.plot(X,X,color=\"red\")"
   ]
  },
  {
   "cell_type": "code",
   "execution_count": 66,
   "id": "26bc5f60-76ee-4121-98f9-9c1a96d85c5c",
   "metadata": {},
   "outputs": [],
   "source": [
    "#=================================================Ridge======================================================"
   ]
  },
  {
   "cell_type": "code",
   "execution_count": 72,
   "id": "bf32fffd-c62e-45da-b417-b21d6bbb543b",
   "metadata": {},
   "outputs": [
    {
     "name": "stdout",
     "output_type": "stream",
     "text": [
      "best parameter and the score:\n",
      "\n",
      "{'alpha': 1e-25}\n",
      "-25.50125788376963\n",
      "\n",
      "\n",
      "Training accuracy : 0.72699\n",
      "\n",
      "Testing accuracy : 0.77799\n",
      "\n",
      "mean square error:  35.41282\n",
      "\n",
      "\n"
     ]
    },
    {
     "data": {
      "text/plain": [
       "[<matplotlib.lines.Line2D at 0x1e3f4142af0>]"
      ]
     },
     "execution_count": 72,
     "metadata": {},
     "output_type": "execute_result"
    },
    {
     "data": {
      "image/png": "[encoded data removed]",
      "text/plain": [
       "<Figure size 432x288 with 1 Axes>"
      ]
     },
     "metadata": {
      "needs_background": "light"
     },
     "output_type": "display_data"
    }
   ],
   "source": [
    "#ridge\n",
    "from sklearn.linear_model import Ridge\n",
    "from sklearn.model_selection import GridSearchCV\n",
    "\n",
    "\n",
    "df_b = load_boston()\n",
    "data_b = pd.DataFrame(df_b.data,columns = df_b.feature_names)\n",
    "data_b['PRICE'] = df_b.target\n",
    "X_b = data_b.drop('PRICE',axis = 1)\n",
    "y_b = data_b['PRICE']\n",
    "X_train,X_test,y_train,y_test = train_test_split(X_b,y_b,test_size = 0.2,random_state = 129)\n",
    "\n",
    "\n",
    "ridge=Ridge()\n",
    "parameters={'alpha':[1e-25,1e-20,1e-15,1e-10,1e-8,1e-3,1e-2,1,5,10,20,30,35,40,45,50,55,100]}\n",
    "ridge_regressor=GridSearchCV(ridge,parameters,scoring='neg_mean_squared_error',cv=5)\n",
    "ridge_regressor.fit(X_train,y_train)\n",
    "#checking out the best parameter and the score\n",
    "print(\"best parameter and the score:\\n\")\n",
    "print(ridge_regressor.best_params_)\n",
    "print(ridge_regressor.best_score_)\n",
    "print(\"\\n\")\n",
    "prediction_ridge=ridge_regressor.predict(X_test)\n",
    "# Prediction\n",
    "\n",
    "y_pred_train_ridge1 = ridge_regressor.predict(X_train)\n",
    "y_pred_test_ridge1 = ridge_regressor.predict(X_test)\n",
    "print('Training accuracy : {}\\n'.format(r2_score(y_train, y_pred_train_ridge1).round(5)))\n",
    "print('Testing accuracy : {}'.format(r2_score(y_test, y_pred_test_ridge1).round(5)))\n",
    "\n",
    "mse1 = cross_val_score(ridge_regressor, X_b, y_b, scoring = 'neg_mean_squared_error',cv=5)\n",
    "mean_mse1 = np.mean(mse1)\n",
    "print(\"\\nmean square error: \",-(mean_mse1).round(5))\n",
    "print(\"\\n\")\n",
    "\n",
    "import seaborn as sns\n",
    "sns.distplot(y_test-prediction_ridge)\n",
    "\n",
    "X=[]\n",
    "for i in range(1,107):\n",
    "    X.append(i)\n",
    "X=np.array(X)\n",
    "plt.scatter(prediction_ridge,y_test)\n",
    "plt.xlabel(\"predicted\")\n",
    "plt.ylabel(\"y_test\")\n",
    "plt.plot(X,X,color=\"red\")"
   ]
  },
  {
   "cell_type": "code",
   "execution_count": null,
   "id": "955d8af3-08bc-4b6e-9f55-a4a6a11527ab",
   "metadata": {},
   "outputs": [],
   "source": [
    "#==================================================knn===================================================="
   ]
  },
  {
   "cell_type": "code",
   "execution_count": 52,
   "id": "11bbea9e-5a7b-483e-b7e1-b37d3ccd5f03",
   "metadata": {},
   "outputs": [
    {
     "name": "stdout",
     "output_type": "stream",
     "text": [
      "Training accuracy : 1.0\n",
      "\n",
      "Testing accuracy : 0.27368\n",
      "\n",
      "\n",
      "mean square error(cross validation score):  105.8743\n",
      "\n",
      "\n",
      "KNN Regresson Model\n",
      "         CRIM   ZN  INDUS  CHAS    NOX     RM    AGE     DIS   RAD    TAX  \\\n",
      "329   0.06724  0.0   3.24   0.0  0.460  6.333   17.2  5.2146   4.0  430.0   \n",
      "371   9.23230  0.0  18.10   0.0  0.631  6.216  100.0  1.1691  24.0  666.0   \n",
      "219   0.11425  0.0  13.89   1.0  0.550  6.373   92.4  3.3633   5.0  276.0   \n",
      "403  24.80170  0.0  18.10   0.0  0.693  5.349   96.0  1.7028  24.0  666.0   \n",
      "78    0.05646  0.0  12.83   0.0  0.437  6.232   53.7  5.0141   5.0  398.0   \n",
      "15    0.62739  0.0   8.14   0.0  0.538  5.834   56.5  4.4986   4.0  307.0   \n",
      "487   4.83567  0.0  18.10   0.0  0.583  5.905   53.2  3.1523  24.0  666.0   \n",
      "340   0.06151  0.0   5.19   0.0  0.515  5.968   58.5  4.8122   5.0  224.0   \n",
      "310   2.63548  0.0   9.90   0.0  0.544  4.973   37.8  2.5194   4.0  304.0   \n",
      "102   0.22876  0.0   8.56   0.0  0.520  6.405   85.4  2.7147   5.0  384.0   \n",
      "\n",
      "     PTRATIO       B  LSTAT  MEDV  Predicted MEDV  \n",
      "329     16.9  375.21   7.34  22.6            19.3  \n",
      "371     20.2  366.15   9.53  50.0            50.0  \n",
      "219     16.4  393.74  10.50  23.0            28.7  \n",
      "403     20.2  396.90  19.77   8.3            13.1  \n",
      "78      18.7  386.40  12.34  21.2            20.8  \n",
      "15      21.0  395.62   8.47  19.9            20.4  \n",
      "487     20.2  388.22  11.45  20.6            21.2  \n",
      "340     20.2  396.90   9.29  18.7            18.5  \n",
      "310     18.4  350.45  12.64  16.1            29.0  \n",
      "102     20.9   70.80  10.63  18.6            13.1  \n",
      "\n",
      "\n",
      "\n",
      "KNN Regresson Model Performance:--  MSE(mean square error): 59.14, MAE(mean absolute error): 4.96 \n",
      "\n",
      "\n"
     ]
    },
    {
     "data": {
      "image/png": "[encoded data removed]",
      "text/plain": [
       "<Figure size 864x648 with 1 Axes>"
      ]
     },
     "metadata": {
      "needs_background": "light"
     },
     "output_type": "display_data"
    },
    {
     "data": {
      "text/plain": [
       "[<matplotlib.lines.Line2D at 0x1e3f2737be0>]"
      ]
     },
     "execution_count": 52,
     "metadata": {},
     "output_type": "execute_result"
    },
    {
     "data": {
      "image/png": "[encoded data removed]",
      "text/plain": [
       "<Figure size 432x288 with 1 Axes>"
      ]
     },
     "metadata": {
      "needs_background": "light"
     },
     "output_type": "display_data"
    }
   ],
   "source": [
    "#knn\n",
    "\n",
    "X_train, X_test, Y_train, Y_test = train_test_split(X_b, y_b, test_size = 0.20, random_state = 0)\n",
    "from sklearn.neighbors import KNeighborsRegressor\n",
    "knr = KNeighborsRegressor(n_neighbors=1)\n",
    "knr.fit(X_train, Y_train)\n",
    "\n",
    "Y_pred = knr.predict(X_test) # Prediction\n",
    "\n",
    "\n",
    "y_pred_train_knn1 = knr.predict(X_train)\n",
    "y_pred_test_knn1 = knr.predict(X_test)\n",
    "print('Training accuracy : {}\\n'.format(r2_score(Y_train, y_pred_train_knn1).round(5)))\n",
    "print('Testing accuracy : {}\\n'.format(r2_score(Y_test, y_pred_test_knn1).round(5)))\n",
    "\n",
    "mse1 = cross_val_score(knr, X_b, y_b, scoring = 'neg_mean_squared_error',cv=5)\n",
    "mean_mse1 = np.mean(mse1)\n",
    "print(\"\\nmean square error(cross validation score): \",-(mean_mse1).round(5))\n",
    "print(\"\\n\")\n",
    "\n",
    "# Create Dataset with Testing values and Predicted Prices\n",
    "print(\"KNN Regresson Model\")\n",
    "model_knn = pd.DataFrame(X_test)\n",
    "model_knn['MEDV'] = Y_test\n",
    "model_knn['Predicted MEDV'] = Y_pred\n",
    "print(model_knn.head(10))\n",
    "print(\"\\n\\n\")\n",
    "\n",
    "# Measure Performance of the Model\n",
    "# Get Mean Squared Error (MSE)\n",
    "from sklearn.metrics import mean_squared_error\n",
    "mse = mean_squared_error(Y_test, Y_pred)\n",
    "# Get Mean Absolute Error (MAE)\n",
    "from sklearn.metrics import mean_absolute_error\n",
    "mae = mean_absolute_error(Y_test, Y_pred)\n",
    "\n",
    "err = \"MSE(mean square error): \" + str(round(mse, 2)) + \",\" + \" MAE(mean absolute error): \" + str(round(mae, 2))\n",
    "print(\"KNN Regresson Model Performance:-- \", err,\"\\n\\n\")\n",
    "\n",
    "# Create Regression Plot for Test and Prediction values\n",
    "fig = plt.figure(figsize=(12,9))\n",
    "ax = sns.regplot(Y_test, Y_pred, marker = 'o', color = 'red')\n",
    "ax.set_title('KNN Regression', fontsize=20)\n",
    "ax.set_xlabel('MEDV or Price', fontsize=20)\n",
    "ax.set_ylabel('Predicted Prices', fontsize=20)\n",
    "# Save the KNN Regrassion Plot along with Error value\n",
    "plt.text(35.0, 10.0, err, fontsize=20, bbox=dict(facecolor='yellow', alpha=0.5))\n",
    "plt.savefig(\"KNNRegression.png\", dpi=70)\n",
    "plt.show()\n",
    "plt.close(fig)\n",
    "\n",
    "X=[]\n",
    "for i in range(1,107):\n",
    "    X.append(i)\n",
    "X=np.array(X)\n",
    "plt.scatter(Y_pred,Y_test)\n",
    "plt.xlabel(\"predicted\")\n",
    "plt.ylabel(\"y_test\")\n",
    "plt.plot(X,X,color=\"red\")"
   ]
  },
  {
   "cell_type": "code",
   "execution_count": null,
   "id": "7ad7344b-3024-44c5-9dc8-8dd47e5bfaf9",
   "metadata": {},
   "outputs": [],
   "source": [
    "#==================================================MLR========================================================"
   ]
  },
  {
   "cell_type": "code",
   "execution_count": 62,
   "id": "7928018d-124e-46ea-b029-6dfb99e63a09",
   "metadata": {},
   "outputs": [
    {
     "name": "stdout",
     "output_type": "stream",
     "text": [
      "MLR Model\n",
      "         CRIM   ZN  INDUS  CHAS    NOX     RM    AGE     DIS   RAD    TAX  \\\n",
      "329   0.06724  0.0   3.24   0.0  0.460  6.333   17.2  5.2146   4.0  430.0   \n",
      "371   9.23230  0.0  18.10   0.0  0.631  6.216  100.0  1.1691  24.0  666.0   \n",
      "219   0.11425  0.0  13.89   1.0  0.550  6.373   92.4  3.3633   5.0  276.0   \n",
      "403  24.80170  0.0  18.10   0.0  0.693  5.349   96.0  1.7028  24.0  666.0   \n",
      "78    0.05646  0.0  12.83   0.0  0.437  6.232   53.7  5.0141   5.0  398.0   \n",
      "15    0.62739  0.0   8.14   0.0  0.538  5.834   56.5  4.4986   4.0  307.0   \n",
      "487   4.83567  0.0  18.10   0.0  0.583  5.905   53.2  3.1523  24.0  666.0   \n",
      "340   0.06151  0.0   5.19   0.0  0.515  5.968   58.5  4.8122   5.0  224.0   \n",
      "310   2.63548  0.0   9.90   0.0  0.544  4.973   37.8  2.5194   4.0  304.0   \n",
      "102   0.22876  0.0   8.56   0.0  0.520  6.405   85.4  2.7147   5.0  384.0   \n",
      "\n",
      "     PTRATIO       B  LSTAT  MEDV  Predicted MEDV  \n",
      "329     16.9  375.21   7.34  22.6            19.3  \n",
      "371     20.2  366.15   9.53  50.0            50.0  \n",
      "219     16.4  393.74  10.50  23.0            28.7  \n",
      "403     20.2  396.90  19.77   8.3            13.1  \n",
      "78      18.7  386.40  12.34  21.2            20.8  \n",
      "15      21.0  395.62   8.47  19.9            20.4  \n",
      "487     20.2  388.22  11.45  20.6            21.2  \n",
      "340     20.2  396.90   9.29  18.7            18.5  \n",
      "310     18.4  350.45  12.64  16.1            29.0  \n",
      "102     20.9   70.80  10.63  18.6            13.1  \n",
      "\n",
      "\n",
      "\n",
      "Training accuracy : 0.63775\n",
      "\n",
      "Testing accuracy : 0.64006\n",
      "\n",
      "\n",
      "RMSE:  6.035041736063677\n",
      "r2 score:  0.6400551238836978\n"
     ]
    },
    {
     "data": {
      "text/plain": [
       "[<matplotlib.lines.Line2D at 0x1e3f43e5700>]"
      ]
     },
     "execution_count": 62,
     "metadata": {},
     "output_type": "execute_result"
    },
    {
     "data": {
      "image/png": "[encoded data removed]",
      "text/plain": [
       "<Figure size 432x288 with 1 Axes>"
      ]
     },
     "metadata": {
      "needs_background": "light"
     },
     "output_type": "display_data"
    }
   ],
   "source": [
    "import numpy as np\n",
    "import pandas as pd\n",
    "from sklearn.model_selection import train_test_split\n",
    "from sklearn.datasets import load_boston\n",
    "from sklearn.metrics import mean_squared_error, r2_score\n",
    "\n",
    "bh_data = load_boston()\n",
    "\n",
    "boston = pd.DataFrame(bh_data.data, columns=bh_data.feature_names)\n",
    "boston['MEDV'] = bh_data.target\n",
    "X = pd.DataFrame(np.c_[boston['LSTAT'], boston['RM']], columns=['LSTAT','RM'])\n",
    "Y = boston['MEDV']\n",
    "X_train, X_test, y_train, y_test = train_test_split(X, Y, test_size = 0.2, random_state=9)\n",
    "from sklearn.linear_model import LinearRegression\n",
    "lin_reg_mod = LinearRegression()\n",
    "lin_reg_mod.fit(X_train, y_train)\n",
    "pred = lin_reg_mod.predict(X_test)\n",
    "\n",
    "y_pred_train_mlr1 = lin_reg_mod.predict(X_train)\n",
    "y_pred_test_mlr1 = lin_reg_mod.predict(X_test)\n",
    "\n",
    "\n",
    "print(\"MLR Model\")\n",
    "model_mlr = pd.DataFrame(X_test)\n",
    "model_mlr['MEDV'] = y_test\n",
    "model_mlr['Predicted MEDV'] = pred\n",
    "print(model_knn.head(10))\n",
    "print(\"\\n\\n\")\n",
    "\n",
    "print('Training accuracy : {}\\n'.format(r2_score(y_train, y_pred_train_mlr1).round(5)))\n",
    "print('Testing accuracy : {}'.format(r2_score(y_test, y_pred_test_mlr1).round(5)))\n",
    "print(\"\\n\")\n",
    "test_set_rmse = (np.sqrt(mean_squared_error(y_test, pred)))\n",
    "test_set_r2 = r2_score(y_test, pred)\n",
    "\n",
    "print(\"RMSE: \",test_set_rmse)\n",
    "print(\"r2 score: \",test_set_r2)\n",
    "X=[]\n",
    "for i in range(1,107):\n",
    "    X.append(i)\n",
    "X=np.array(X)\n",
    "plt.scatter(pred,y_test)\n",
    "plt.xlabel(\"predicted\")\n",
    "plt.ylabel(\"y_test\")\n",
    "plt.plot(X,X,color=\"red\")"
   ]
  },
  {
   "cell_type": "code",
   "execution_count": null,
   "id": "78abf437-0c5f-49c1-9a53-45e7c256d9db",
   "metadata": {},
   "outputs": [],
   "source": [
    "#==================================================kernel cobra========================================="
   ]
  },
  {
   "cell_type": "code",
   "execution_count": 63,
   "id": "cbdb7790-0731-4df5-bd45-b9bd66e02544",
   "metadata": {},
   "outputs": [
    {
     "name": "stdout",
     "output_type": "stream",
     "text": [
      "kernel cobra Model\n",
      "         CRIM   ZN  INDUS  CHAS    NOX     RM    AGE     DIS   RAD    TAX  \\\n",
      "329   0.06724  0.0   3.24   0.0  0.460  6.333   17.2  5.2146   4.0  430.0   \n",
      "371   9.23230  0.0  18.10   0.0  0.631  6.216  100.0  1.1691  24.0  666.0   \n",
      "219   0.11425  0.0  13.89   1.0  0.550  6.373   92.4  3.3633   5.0  276.0   \n",
      "403  24.80170  0.0  18.10   0.0  0.693  5.349   96.0  1.7028  24.0  666.0   \n",
      "78    0.05646  0.0  12.83   0.0  0.437  6.232   53.7  5.0141   5.0  398.0   \n",
      "15    0.62739  0.0   8.14   0.0  0.538  5.834   56.5  4.4986   4.0  307.0   \n",
      "487   4.83567  0.0  18.10   0.0  0.583  5.905   53.2  3.1523  24.0  666.0   \n",
      "340   0.06151  0.0   5.19   0.0  0.515  5.968   58.5  4.8122   5.0  224.0   \n",
      "310   2.63548  0.0   9.90   0.0  0.544  4.973   37.8  2.5194   4.0  304.0   \n",
      "102   0.22876  0.0   8.56   0.0  0.520  6.405   85.4  2.7147   5.0  384.0   \n",
      "\n",
      "     PTRATIO       B  LSTAT  MEDV  Predicted MEDV  \n",
      "329     16.9  375.21   7.34  22.6            19.3  \n",
      "371     20.2  366.15   9.53  50.0            50.0  \n",
      "219     16.4  393.74  10.50  23.0            28.7  \n",
      "403     20.2  396.90  19.77   8.3            13.1  \n",
      "78      18.7  386.40  12.34  21.2            20.8  \n",
      "15      21.0  395.62   8.47  19.9            20.4  \n",
      "487     20.2  388.22  11.45  20.6            21.2  \n",
      "340     20.2  396.90   9.29  18.7            18.5  \n",
      "310     18.4  350.45  12.64  16.1            29.0  \n",
      "102     20.9   70.80  10.63  18.6            13.1  \n",
      "\n",
      "\n",
      "\n",
      "Training accuracy : 0.93429\n",
      "\n",
      "Testing accuracy : -0.62184\n",
      "\n",
      "mean square error:  53.03212\n",
      "\n",
      "\n"
     ]
    },
    {
     "data": {
      "text/plain": [
       "[<matplotlib.lines.Line2D at 0x1e3f444b3d0>]"
      ]
     },
     "execution_count": 63,
     "metadata": {},
     "output_type": "execute_result"
    },
    {
     "data": {
      "image/png": "[encoded data removed]",
      "text/plain": [
       "<Figure size 432x288 with 1 Axes>"
      ]
     },
     "metadata": {
      "needs_background": "light"
     },
     "output_type": "display_data"
    }
   ],
   "source": [
    "from sklearn import datasets\n",
    "from sklearn.metrics import accuracy_score\n",
    "from pycobra.cobra import Cobra\n",
    "from pycobra.kernelcobra import KernelCobra\n",
    "#from sklearn.datasets.samples_generator import make_regression\n",
    "boston = datasets.load_boston()\n",
    "\n",
    "# boston_X_train = boston.data[:-40]\n",
    "# boston_X_test = boston.data[-40:]\n",
    "\n",
    "# boston_y_train = boston.target[:-40]\n",
    "# boston_y_test = boston.target[-40:]\n",
    "\n",
    "\n",
    "boston_X_train = boston.data[:400]\n",
    "boston_X_test = boston.data[400:]\n",
    "\n",
    "boston_y_train = boston.target[:400]\n",
    "boston_y_test = boston.target[400:]\n",
    "\n",
    "from pycobra.cobra import Cobra\n",
    "from pycobra.kernelcobra import KernelCobra\n",
    "\n",
    "from pycobra.ewa import Ewa\n",
    "from pycobra.diagnostics import Diagnostics\n",
    "from pycobra.visualisation import Visualisation\n",
    "import numpy as np\n",
    "\n",
    "%matplotlib inline\n",
    "\n",
    "boston_kernelcobra = KernelCobra()\n",
    "boston_kernelcobra.fit(boston_X_train, boston_y_train)\n",
    "\n",
    "kernel = KernelCobra()\n",
    "\n",
    "kernel.fit(boston_X_train, boston_y_train)\n",
    "kernel.predict(boston_X_test)\n",
    "\n",
    "y_pred=kernel.predict(boston_X_test)\n",
    "import matplotlib.pyplot as plt\n",
    "import numpy as np\n",
    "\n",
    "X=[]\n",
    "for i in range(1,107):\n",
    "    X.append(i)\n",
    "X=np.array(X)\n",
    "\n",
    "\n",
    "from sklearn.metrics import r2_score\n",
    "from sklearn.model_selection import cross_val_score, GridSearchCV\n",
    "prediction_kernel=kernel.predict(boston_X_test)\n",
    "\n",
    "print(\"kernel cobra Model\")\n",
    "model_mlr = pd.DataFrame(boston_X_test)\n",
    "model_mlr['MEDV'] = boston_y_test\n",
    "model_mlr['Predicted MEDV'] = prediction_kernel\n",
    "print(model_knn.head(10))\n",
    "print(\"\\n\\n\")\n",
    "\n",
    "# Prediction\n",
    "y_pred_train_kernel1 = kernel.predict(boston_X_train)\n",
    "y_pred_test_kernel1 = kernel.predict(boston_X_test)\n",
    "print('Training accuracy : {}\\n'.format(r2_score(boston_y_train, y_pred_train_kernel1).round(5)))\n",
    "print('Testing accuracy : {}'.format(r2_score(boston_y_test, y_pred_test_kernel1).round(5)))\n",
    "\n",
    "mse1 = cross_val_score(kernel, boston.data, boston.target, scoring = 'neg_mean_squared_error',cv=5)\n",
    "mean_mse1 = np.mean(mse1)\n",
    "print(\"\\nmean square error: \",-(mean_mse1).round(5))\n",
    "print(\"\\n\")\n",
    "\n",
    "plt.scatter(y_pred,boston_y_test)\n",
    "plt.xlabel(\"predicted\")\n",
    "plt.ylabel(\"y_test\")\n",
    "plt.plot(X,X,color=\"red\")"
   ]
  },
  {
   "cell_type": "code",
   "execution_count": 27,
   "id": "0bb10460-ca83-4298-a9d4-e663739aa829",
   "metadata": {},
   "outputs": [],
   "source": []
  },
  {
   "cell_type": "code",
   "execution_count": null,
   "id": "ebe3a00f-11fd-4abd-82d4-fd3a8b08dc09",
   "metadata": {},
   "outputs": [],
   "source": []
  },
  {
   "cell_type": "code",
   "execution_count": null,
   "id": "cffe7b9b-ea25-4aa2-843e-372ae0a4fa12",
   "metadata": {},
   "outputs": [],
   "source": []
  },
  {
   "cell_type": "code",
   "execution_count": null,
   "id": "e224bfb9-e017-4f5a-91df-e267cb1e377d",
   "metadata": {},
   "outputs": [],
   "source": []
  },
  {
   "cell_type": "code",
   "execution_count": 6,
   "id": "52b2afa1-98d0-4233-bd1b-7dd464bb62a2",
   "metadata": {},
   "outputs": [],
   "source": []
  },
  {
   "cell_type": "code",
   "execution_count": 8,
   "id": "d233f0bf-b3c9-4cba-ae29-d8a239db6cbf",
   "metadata": {},
   "outputs": [],
   "source": []
  },
  {
   "cell_type": "code",
   "execution_count": null,
   "id": "0e51004b-d62a-4e2c-b8f0-a16c90cda59d",
   "metadata": {},
   "outputs": [],
   "source": []
  },
  {
   "cell_type": "code",
   "execution_count": null,
   "id": "a37b2690-ef76-4e3c-8f4b-0cde4e71ecb1",
   "metadata": {},
   "outputs": [],
   "source": []
  },
  {
   "cell_type": "code",
   "execution_count": null,
   "id": "50e4b722-b5fd-4156-94ba-0cf6031a2144",
   "metadata": {},
   "outputs": [],
   "source": []
  },
  {
   "cell_type": "code",
   "execution_count": null,
   "id": "fab3f8cf-ca4f-4069-880f-12c8fd459f3b",
   "metadata": {},
   "outputs": [],
   "source": []
  },
  {
   "cell_type": "code",
   "execution_count": null,
   "id": "60b290e5-3b70-4372-9d4c-7c9e5c3bb554",
   "metadata": {},
   "outputs": [],
   "source": []
  },
  {
   "cell_type": "code",
   "execution_count": null,
   "id": "e36fd8d7-d75f-4501-b1b1-52281b55243f",
   "metadata": {},
   "outputs": [],
   "source": []
  },
  {
   "cell_type": "code",
   "execution_count": null,
   "id": "97ec7982-9a84-496c-8996-4c4d5743aa37",
   "metadata": {},
   "outputs": [],
   "source": []
  },
  {
   "cell_type": "code",
   "execution_count": null,
   "id": "6c9e8a20-28f0-46ea-a214-621a4129daa5",
   "metadata": {
    "tags": []
   },
   "outputs": [],
   "source": []
  },
  {
   "cell_type": "code",
   "execution_count": 16,
   "id": "2a1bbcf3-b666-48c1-b691-45b7a0a94c16",
   "metadata": {},
   "outputs": [],
   "source": []
  },
  {
   "cell_type": "code",
   "execution_count": null,
   "id": "4a21ef2e-80aa-4809-8a62-a8fb482d9e68",
   "metadata": {},
   "outputs": [],
   "source": []
  },
  {
   "cell_type": "code",
   "execution_count": null,
   "id": "68f7cc04-138e-4d8c-9e2a-7f8b55efda29",
   "metadata": {},
   "outputs": [],
   "source": []
  },
  {
   "cell_type": "code",
   "execution_count": null,
   "id": "0337c2f5-dd6a-4a14-a3e4-8d2a44f27d0d",
   "metadata": {
    "tags": []
   },
   "outputs": [],
   "source": []
  },
  {
   "cell_type": "code",
   "execution_count": null,
   "id": "781bedbd-0870-4a10-b476-9e2dbcd13170",
   "metadata": {},
   "outputs": [],
   "source": []
  },
  {
   "cell_type": "code",
   "execution_count": 36,
   "id": "52f55b3d-753e-47dd-b495-62570fbf580d",
   "metadata": {},
   "outputs": [],
   "source": []
  },
  {
   "cell_type": "code",
   "execution_count": 40,
   "id": "2af1d03d-5057-4f88-93a9-8f54dad2ca86",
   "metadata": {},
   "outputs": [],
   "source": []
  },
  {
   "cell_type": "code",
   "execution_count": 46,
   "id": "98806a7d-d131-4939-bc13-44e50e90a245",
   "metadata": {},
   "outputs": [],
   "source": []
  },
  {
   "cell_type": "code",
   "execution_count": null,
   "id": "c1bb4ea7-1f2c-4cfe-b50b-f14f38ec5a9f",
   "metadata": {},
   "outputs": [],
   "source": []
  },
  {
   "cell_type": "code",
   "execution_count": null,
   "id": "1de0b09b-5b8a-4c79-ac3e-20e688f13c75",
   "metadata": {},
   "outputs": [],
   "source": []
  }
 ],
 "metadata": {
  "kernelspec": {
   "display_name": "Python 3",
   "language": "python",
   "name": "python3"
  },
  "language_info": {
   "codemirror_mode": {
    "name": "ipython",
    "version": 3
   },
   "file_extension": ".py",
   "mimetype": "text/x-python",
   "name": "python",
   "nbconvert_exporter": "python",
   "pygments_lexer": "ipython3",
   "version": "3.8.8"
  }
 },
 "nbformat": 4,
 "nbformat_minor": 5
}
